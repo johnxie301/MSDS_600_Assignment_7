{
 "cells": [
  {
   "cell_type": "markdown",
   "id": "73fa2b84",
   "metadata": {},
   "source": [
    "# Week 7 Assignment"
   ]
  },
  {
   "cell_type": "markdown",
   "id": "f48ee1c5",
   "metadata": {},
   "source": [
    "This week we are collecting some data from Reddit and doing some basic EDA on it. You should:\n",
    "\n",
    "- create your Reddit account and API keys\n",
    "- collect data from a subreddit of your choice\n",
    "    - at a minimum, collect the posts from the subreddit; optionally collect comments on the posts\n",
    "- save the data to a SQLite3 database\n",
    "- perform some basic EDA on the data\n",
    "    - create at least 2 plots\n",
    "- write a short analysis at the end describing the process and results\n",
    "- turn in the Jupyter Notebook and PDF printout or export to the week 7 dropbox\n",
    "\n",
    "***Optional* advanced section**\n",
    "- Practice SQL queries and select a subsection of the posts you collected\n",
    "- Modify your code to collect data beyond the 1000 item limit\n",
    "- Collect comments from the posts for analysis next week and do some EDA on the comments (e.g. who is the top commenter, which commenters have the most up and down votes or most controversial posts, etc)\n",
    "- examine n-grams ([bigrams](https://stackoverflow.com/a/37651184/4549682), trigrams) or [collocations](https://www.geeksforgeeks.org/nlp-word-collocations/)\n",
    "\n",
    "Note: There is no solution file for this week."
   ]
  },
  {
   "cell_type": "markdown",
   "id": "20211e9c",
   "metadata": {},
   "source": [
    "## Import praw and create connection to reddit using credentials"
   ]
  },
  {
   "cell_type": "code",
   "execution_count": 1,
   "id": "7c87d583",
   "metadata": {},
   "outputs": [],
   "source": [
    "# import api warper, pandas and credentials\n",
    "import praw\n",
    "import pandas as pd\n",
    "\n",
    "import credentials"
   ]
  },
  {
   "cell_type": "code",
   "execution_count": 2,
   "id": "9c486d68",
   "metadata": {},
   "outputs": [],
   "source": [
    "# code directly from Week_7_FTE.ipynb, connecting into my developed applications\n",
    "reddit = praw.Reddit(client_id=credentials.client_id,\n",
    "                     client_secret=credentials.client_secret,\n",
    "                     user_agent=credentials.user_agent)"
   ]
  },
  {
   "cell_type": "markdown",
   "id": "5b117fb2",
   "metadata": {},
   "source": [
    "### Testing Out Results from Subreddit"
   ]
  },
  {
   "cell_type": "code",
   "execution_count": 27,
   "id": "9b35d1eb",
   "metadata": {},
   "outputs": [],
   "source": [
    "# I chose owala as the key ward to look into because they are my girlfriend's favorite water bottle brand\n",
    "owala_subreddit = reddit.subreddit('owala').hot(limit=10)"
   ]
  },
  {
   "cell_type": "code",
   "execution_count": 28,
   "id": "884389d0",
   "metadata": {},
   "outputs": [
    {
     "name": "stdout",
     "output_type": "stream",
     "text": [
      "Welcome! please drop an intro and which owala(s) you own. 13\n",
      "Owala Boot 2\n",
      "Pissed to say the least 3\n",
      "Water Bottle Residue Inside 1\n",
      "Neptune 1\n",
      "help me ID this color 9\n",
      "Discount/ambassador code 1\n",
      "Love my 24oz and upgraded to the 40oz in Iced Breeze🥶 18\n",
      "what is the best bottle boot for neo sage? 1\n",
      "Actual customers and fans of Owala missed out so scalpers could do this… 🤢 47\n"
     ]
    }
   ],
   "source": [
    "for post in owala_subreddit:\n",
    "    print(post.title, post.score)"
   ]
  },
  {
   "cell_type": "markdown",
   "id": "ba732ecb",
   "metadata": {},
   "source": [
    "Comment: I thought there will be water bottle brand comparison topics......\n"
   ]
  },
  {
   "cell_type": "code",
   "execution_count": 31,
   "id": "7c1da128",
   "metadata": {},
   "outputs": [
    {
     "name": "stdout",
     "output_type": "stream",
     "text": [
      "Actual customers and fans of Owala missed out so scalpers could do this… 🤢\n",
      "/r/Owala/comments/16zfa38/actual_customers_and_fans_of_owala_missed_out_so/\n"
     ]
    }
   ],
   "source": [
    "#trying out the attributs in post. \n",
    "print(post.title)\n",
    "print(post.permalink)"
   ]
  },
  {
   "cell_type": "markdown",
   "id": "ba0c6a07",
   "metadata": {},
   "source": [
    "### Create a Dictionary to Store Data"
   ]
  },
  {
   "cell_type": "code",
   "execution_count": 32,
   "id": "102ca648",
   "metadata": {},
   "outputs": [],
   "source": [
    "# create a dictionary to store these values\n",
    "reddit_data = {'title': [],\n",
    "              'link': [],\n",
    "              'author': [],\n",
    "              'n_comments': [],\n",
    "              'score': [],\n",
    "              'text': []}"
   ]
  },
  {
   "cell_type": "code",
   "execution_count": 33,
   "id": "1bca1c14",
   "metadata": {},
   "outputs": [],
   "source": [
    "#getting the max amount of owala related topics\n",
    "owala_subreddit = reddit.subreddit('owala').hot(limit=None)"
   ]
  },
  {
   "cell_type": "code",
   "execution_count": 35,
   "id": "b2afa22b",
   "metadata": {},
   "outputs": [],
   "source": [
    "# code source directly from Week_7_FTE.ipynb, appending the infos to my dictionary\n",
    "for post in list(owala_subreddit):\n",
    "    reddit_data['title'].append(post.title)\n",
    "    reddit_data['link'].append(post.permalink)\n",
    "    if post.author is None:\n",
    "        reddit_data['author'].append('')\n",
    "    else:\n",
    "        reddit_data['author'].append(post.author.name)\n",
    "    \n",
    "    reddit_data['n_comments'].append(post.num_comments)\n",
    "    reddit_data['score'].append(post.score)\n",
    "    reddit_data['text'].append(post.selftext)"
   ]
  },
  {
   "cell_type": "code",
   "execution_count": 36,
   "id": "ca2eede4",
   "metadata": {},
   "outputs": [],
   "source": [
    "# converting the dictionary to dataframe\n",
    "owala_df = pd.DataFrame(reddit_data)"
   ]
  },
  {
   "cell_type": "code",
   "execution_count": 39,
   "id": "32fe7920",
   "metadata": {},
   "outputs": [
    {
     "data": {
      "text/html": [
       "<div>\n",
       "<style scoped>\n",
       "    .dataframe tbody tr th:only-of-type {\n",
       "        vertical-align: middle;\n",
       "    }\n",
       "\n",
       "    .dataframe tbody tr th {\n",
       "        vertical-align: top;\n",
       "    }\n",
       "\n",
       "    .dataframe thead th {\n",
       "        text-align: right;\n",
       "    }\n",
       "</style>\n",
       "<table border=\"1\" class=\"dataframe\">\n",
       "  <thead>\n",
       "    <tr style=\"text-align: right;\">\n",
       "      <th></th>\n",
       "      <th>title</th>\n",
       "      <th>link</th>\n",
       "      <th>author</th>\n",
       "      <th>n_comments</th>\n",
       "      <th>score</th>\n",
       "      <th>text</th>\n",
       "    </tr>\n",
       "  </thead>\n",
       "  <tbody>\n",
       "    <tr>\n",
       "      <th>0</th>\n",
       "      <td>Welcome! please drop an intro and which owala(...</td>\n",
       "      <td>/r/Owala/comments/u1nw27/welcome_please_drop_a...</td>\n",
       "      <td>misscellanie</td>\n",
       "      <td>47</td>\n",
       "      <td>13</td>\n",
       "      <td></td>\n",
       "    </tr>\n",
       "    <tr>\n",
       "      <th>1</th>\n",
       "      <td>Owala Boot</td>\n",
       "      <td>/r/Owala/comments/17346hm/owala_boot/</td>\n",
       "      <td>yuuki_no_</td>\n",
       "      <td>2</td>\n",
       "      <td>2</td>\n",
       "      <td>Trying to find an owala boot. Any owala boot y...</td>\n",
       "    </tr>\n",
       "    <tr>\n",
       "      <th>2</th>\n",
       "      <td>Pissed to say the least</td>\n",
       "      <td>/r/Owala/comments/172pa7n/pissed_to_say_the_le...</td>\n",
       "      <td>Shreksasshole420</td>\n",
       "      <td>7</td>\n",
       "      <td>3</td>\n",
       "      <td></td>\n",
       "    </tr>\n",
       "    <tr>\n",
       "      <th>3</th>\n",
       "      <td>Water Bottle Residue Inside</td>\n",
       "      <td>/r/Owala/comments/1714gmh/water_bottle_residue...</td>\n",
       "      <td>Pristine-Can-1403</td>\n",
       "      <td>4</td>\n",
       "      <td>1</td>\n",
       "      <td>As you can tell from the picture there is some...</td>\n",
       "    </tr>\n",
       "    <tr>\n",
       "      <th>4</th>\n",
       "      <td>Neptune</td>\n",
       "      <td>/r/Owala/comments/170onc0/neptune/</td>\n",
       "      <td>kimribbean</td>\n",
       "      <td>6</td>\n",
       "      <td>1</td>\n",
       "      <td>Anybody order their Neptune bottle from the “c...</td>\n",
       "    </tr>\n",
       "  </tbody>\n",
       "</table>\n",
       "</div>"
      ],
      "text/plain": [
       "                                               title  \\\n",
       "0  Welcome! please drop an intro and which owala(...   \n",
       "1                                         Owala Boot   \n",
       "2                            Pissed to say the least   \n",
       "3                        Water Bottle Residue Inside   \n",
       "4                                            Neptune   \n",
       "\n",
       "                                                link             author  \\\n",
       "0  /r/Owala/comments/u1nw27/welcome_please_drop_a...       misscellanie   \n",
       "1              /r/Owala/comments/17346hm/owala_boot/          yuuki_no_   \n",
       "2  /r/Owala/comments/172pa7n/pissed_to_say_the_le...   Shreksasshole420   \n",
       "3  /r/Owala/comments/1714gmh/water_bottle_residue...  Pristine-Can-1403   \n",
       "4                 /r/Owala/comments/170onc0/neptune/         kimribbean   \n",
       "\n",
       "   n_comments  score                                               text  \n",
       "0          47     13                                                     \n",
       "1           2      2  Trying to find an owala boot. Any owala boot y...  \n",
       "2           7      3                                                     \n",
       "3           4      1  As you can tell from the picture there is some...  \n",
       "4           6      1  Anybody order their Neptune bottle from the “c...  "
      ]
     },
     "execution_count": 39,
     "metadata": {},
     "output_type": "execute_result"
    }
   ],
   "source": [
    "#get a preview of it\n",
    "owala_df.head(5)"
   ]
  },
  {
   "cell_type": "code",
   "execution_count": 44,
   "id": "20d4619c",
   "metadata": {},
   "outputs": [
    {
     "name": "stdout",
     "output_type": "stream",
     "text": [
      "<class 'pandas.core.frame.DataFrame'>\n",
      "RangeIndex: 604 entries, 0 to 603\n",
      "Data columns (total 6 columns):\n",
      " #   Column      Non-Null Count  Dtype \n",
      "---  ------      --------------  ----- \n",
      " 0   title       604 non-null    object\n",
      " 1   link        604 non-null    object\n",
      " 2   author      604 non-null    object\n",
      " 3   n_comments  604 non-null    int64 \n",
      " 4   score       604 non-null    int64 \n",
      " 5   text        604 non-null    object\n",
      "dtypes: int64(2), object(4)\n",
      "memory usage: 28.4+ KB\n"
     ]
    }
   ],
   "source": [
    "owala_df.info()"
   ]
  },
  {
   "cell_type": "markdown",
   "id": "9a02e2fa",
   "metadata": {},
   "source": [
    "## Create SQLite Database and Analysis Using SQL queries"
   ]
  },
  {
   "cell_type": "code",
   "execution_count": 40,
   "id": "589f9a01",
   "metadata": {},
   "outputs": [],
   "source": [
    "import sqlite3"
   ]
  },
  {
   "cell_type": "code",
   "execution_count": 41,
   "id": "dfcbdc1d",
   "metadata": {},
   "outputs": [],
   "source": [
    "#create a url and a database for owala(I learned this through IBM data scientists and I would like to try it for the first time)\n",
    "url = r'/Users/johnxie301/Desktop/Data_Science_600/Assignment_7'\n",
    "conn = sqlite3.connect(f'{url}.owala.db')"
   ]
  },
  {
   "cell_type": "code",
   "execution_count": 42,
   "id": "8af1edde",
   "metadata": {},
   "outputs": [],
   "source": [
    "#creata a cursor to excute sql queries\n",
    "cursor = conn.cursor()"
   ]
  },
  {
   "cell_type": "code",
   "execution_count": 43,
   "id": "dca27afc",
   "metadata": {},
   "outputs": [
    {
     "data": {
      "text/plain": [
       "604"
      ]
     },
     "execution_count": 43,
     "metadata": {},
     "output_type": "execute_result"
    }
   ],
   "source": [
    "#load the dataframe to sqlite database\n",
    "owala_df.to_sql('owala_posts',conn,if_exists='fail',index=False)"
   ]
  },
  {
   "cell_type": "code",
   "execution_count": 45,
   "id": "2fdf218d",
   "metadata": {},
   "outputs": [
    {
     "data": {
      "text/plain": [
       "('owala_posts',)"
      ]
     },
     "execution_count": 45,
     "metadata": {},
     "output_type": "execute_result"
    }
   ],
   "source": [
    "#check if the tabel has been successfully loaded into sqlite db\n",
    "cursor.execute(\"SELECT name FROM sqlite_master WHERE type = 'table'\")\n",
    "#use fetch one because I just created this table, there should only be one table type in the master.\n",
    "cursor.fetchone()"
   ]
  },
  {
   "cell_type": "code",
   "execution_count": 46,
   "id": "922bb68a",
   "metadata": {},
   "outputs": [
    {
     "data": {
      "text/plain": [
       "[('Welcome! please drop an intro and which owala(s) you own.',\n",
       "  '/r/Owala/comments/u1nw27/welcome_please_drop_an_intro_and_which_owalas_you/',\n",
       "  'misscellanie',\n",
       "  47,\n",
       "  13,\n",
       "  ''),\n",
       " ('Owala Boot',\n",
       "  '/r/Owala/comments/17346hm/owala_boot/',\n",
       "  'yuuki_no_',\n",
       "  2,\n",
       "  2,\n",
       "  'Trying to find an owala boot. Any owala boot you would strongly recommend?'),\n",
       " ('Pissed to say the least',\n",
       "  '/r/Owala/comments/172pa7n/pissed_to_say_the_least/',\n",
       "  'Shreksasshole420',\n",
       "  7,\n",
       "  3,\n",
       "  ''),\n",
       " ('Water Bottle Residue Inside',\n",
       "  '/r/Owala/comments/1714gmh/water_bottle_residue_inside/',\n",
       "  'Pristine-Can-1403',\n",
       "  4,\n",
       "  1,\n",
       "  'As you can tell from the picture there is some markings inside the water bottle right after I clean it. Can anyone tell me if this is fine, and how to get rid of it please?\\nThe water bottle is an Owala 40 oz.'),\n",
       " ('Neptune',\n",
       "  '/r/Owala/comments/170onc0/neptune/',\n",
       "  'kimribbean',\n",
       "  6,\n",
       "  1,\n",
       "  'Anybody order their Neptune bottle from the “cosmic collection” ?'),\n",
       " ('help me ID this color',\n",
       "  '/r/Owala/comments/1708x5p/help_me_id_this_color/',\n",
       "  'boncuicui',\n",
       "  9,\n",
       "  10,\n",
       "  'can’t find this color name, looked at every IG post and cannot find :( please help'),\n",
       " ('Discount/ambassador code',\n",
       "  '/r/Owala/comments/170kili/discountambassador_code/',\n",
       "  'Scary_Return_5769',\n",
       "  0,\n",
       "  1,\n",
       "  'Does anyone have a ambassador to discount code? I am looking to place an order and would love a discount if possible'),\n",
       " ('Love my 24oz and upgraded to the 40oz in Iced Breeze🥶',\n",
       "  '/r/Owala/comments/16zws3g/love_my_24oz_and_upgraded_to_the_40oz_in_iced/',\n",
       "  'pineappleapricot',\n",
       "  9,\n",
       "  17,\n",
       "  ''),\n",
       " ('what is the best bottle boot for neo sage?',\n",
       "  '/r/Owala/comments/170eb8y/what_is_the_best_bottle_boot_for_neo_sage/',\n",
       "  'itssafalsegod',\n",
       "  3,\n",
       "  1,\n",
       "  'i was thinking either the mint or the grey/white one as i don’t really want a neon pink one but do the mint and grey match the colours on the bottle?'),\n",
       " ('Actual customers and fans of Owala missed out so scalpers could do this… 🤢',\n",
       "  '/r/Owala/comments/16zfa38/actual_customers_and_fans_of_owala_missed_out_so/',\n",
       "  'jaya9581',\n",
       "  23,\n",
       "  45,\n",
       "  '')]"
      ]
     },
     "execution_count": 46,
     "metadata": {},
     "output_type": "execute_result"
    }
   ],
   "source": [
    "#now check the table see if the data exists\n",
    "cursor.execute('SELECT * FROM owala_posts LIMIT 10')\n",
    "#use fetchall because we want to see all 10 columns returned\n",
    "cursor.fetchall()"
   ]
  },
  {
   "cell_type": "code",
   "execution_count": 54,
   "id": "54a658e9",
   "metadata": {},
   "outputs": [
    {
     "data": {
      "text/plain": [
       "[('Birthday Raffle!', 150, 1, 15, 71),\n",
       " ('Welcome! please drop an intro and which owala(s) you own.', 47, 2, 13, 82),\n",
       " ('wah missed lotsa lilac :(', 45, 3, 20, 38),\n",
       " ('Owala Color Drop Be Mine', 39, 4, 7, 180),\n",
       " ('Found out my Owala is the ugliest color in the world', 36, 5, 136, 1)]"
      ]
     },
     "execution_count": 54,
     "metadata": {},
     "output_type": "execute_result"
    }
   ],
   "source": [
    "# now try to select the topic with most score then most comments(Also practicing my sql queries just so I did not forget them after not using it for almost 6 months)\n",
    "cursor.execute(\"SELECT title,n_comments ,ROW_NUMBER() OVER(ORDER BY n_comments DESC) AS rank_comm,score, ROW_NUMBER() OVER(ORDER BY score DESC) AS rank_score FROM owala_posts LIMIT 5\")\n",
    "cursor.fetchall()"
   ]
  },
  {
   "cell_type": "markdown",
   "id": "189d0917",
   "metadata": {},
   "source": [
    "Comment: Of course a raffle has the most comments... I am surprised so many people replied on 'the ugliest color' owala and it has the highest score. I wonder what's the color that the author called it 'the ugliest'."
   ]
  },
  {
   "cell_type": "code",
   "execution_count": 57,
   "id": "ab2c9080",
   "metadata": {},
   "outputs": [
    {
     "data": {
      "text/plain": [
       "[('Just yesterday, my brand new Owala Freesip Forresty bottle rolled up to my doorstep. It was love at first sight, I\\'m telling you. It\\'s got that unique blend of \"jungle chic\" meets \"where\\'s my latte?\" and I was all about it.\\n\\nI decided to showcase my new accessory at the office today, which - little did I know - was set to become a fashion runway of sorts.\\n\\nEnter my coworker - the Picasso of pixels and a graphic designer. Well, the moment his eyes hit my Owala, he gets this wide-eyed look, like he\\'s just seen the abominable snowman or something. He then suggests that I run a quick Google search for \\'ugliest Pantone color in the world\\'.\\n\\nI raise an eyebrow at him - after all, what could possibly tarnish my love for my new bottle? But curiosity got the better of me. Turns out, my forest green Owala was almost a perfect match for Pantone 448 C - a color apparently so repugnant, it won the crown for the world\\'s ugliest color.\\n\\nHere\\'s the kicker, though. Australia uses this Pantone 448 C for their tobacco products. Because it\\'s so ugly, it\\'s supposed to make people quit smoking.\\n\\nSuddenly, I\\'m standing there in the office, holding this bottle that\\'s now a part-monstrosity, part-talisman against smoking, and I can\\'t help but laugh. If anything, I love this ugly little gem even more now. It\\'s got character. \\n\\nSo, here\\'s to my Forresty Owala - the world\\'s most aesthetically challenged thirst-quencher.   \\n\\n\\nCheers and stay hydrated!',)]"
      ]
     },
     "execution_count": 57,
     "metadata": {},
     "output_type": "execute_result"
    }
   ],
   "source": [
    "cursor.execute(\"SELECT text FROM owala_posts WHERE title = 'Found out my Owala is the ugliest color in the world'\")\n",
    "cursor.fetchall()"
   ]
  },
  {
   "cell_type": "code",
   "execution_count": 58,
   "id": "f3b000e3",
   "metadata": {},
   "outputs": [],
   "source": [
    "#All good with SQL, time to close the connection so it doesnt keep running in the back.\n",
    "cursor.close()\n",
    "conn.close()"
   ]
  },
  {
   "cell_type": "markdown",
   "id": "76a21c95",
   "metadata": {},
   "source": [
    "## EDAs on this owala dataframe"
   ]
  },
  {
   "cell_type": "code",
   "execution_count": 61,
   "id": "6d2c5517",
   "metadata": {},
   "outputs": [
    {
     "data": {
      "text/plain": [
       "<Axes: ylabel='Frequency'>"
      ]
     },
     "execution_count": 61,
     "metadata": {},
     "output_type": "execute_result"
    },
    {
     "data": {
      "image/png": "[encoded data removed]",
      "text/plain": [
       "<Figure size 640x480 with 1 Axes>"
      ]
     },
     "metadata": {},
     "output_type": "display_data"
    }
   ],
   "source": [
    "owala_df['score'].plot.hist()"
   ]
  },
  {
   "cell_type": "code",
   "execution_count": 65,
   "id": "11ecda42",
   "metadata": {},
   "outputs": [
    {
     "data": {
      "text/plain": [
       "<Axes: ylabel='Frequency'>"
      ]
     },
     "execution_count": 65,
     "metadata": {},
     "output_type": "execute_result"
    },
    {
     "data": {
      "image/png": "[encoded data removed]",
      "text/plain": [
       "<Figure size 640x480 with 1 Axes>"
      ]
     },
     "metadata": {},
     "output_type": "display_data"
    }
   ],
   "source": [
    "owala_df['n_comments'][owala_df['n_comments'] >= 20].plot.hist()"
   ]
  },
  {
   "cell_type": "markdown",
   "id": "d7a67fae",
   "metadata": {},
   "source": [
    "Comment: looks like owala is not a popular topic on reddit, the most commented topic was a birthday raffle"
   ]
  },
  {
   "cell_type": "code",
   "execution_count": 66,
   "id": "1b9d6c0d",
   "metadata": {},
   "outputs": [
    {
     "data": {
      "text/plain": [
       "<Axes: xlabel='n_comments', ylabel='score'>"
      ]
     },
     "execution_count": 66,
     "metadata": {},
     "output_type": "execute_result"
    },
    {
     "data": {
      "image/png": "[encoded data removed]",
      "text/plain": [
       "<Figure size 640x480 with 1 Axes>"
      ]
     },
     "metadata": {},
     "output_type": "display_data"
    }
   ],
   "source": [
    "owala_df.plot.scatter(x= 'n_comments', y= 'score')"
   ]
  },
  {
   "cell_type": "code",
   "execution_count": 67,
   "id": "dab65670",
   "metadata": {},
   "outputs": [
    {
     "data": {
      "text/plain": [
       "<Axes: xlabel='author'>"
      ]
     },
     "execution_count": 67,
     "metadata": {},
     "output_type": "execute_result"
    },
    {
     "data": {
      "image/png": "[encoded data removed]",
      "text/plain": [
       "<Figure size 640x480 with 1 Axes>"
      ]
     },
     "metadata": {},
     "output_type": "display_data"
    }
   ],
   "source": [
    "owala_df['author'].value_counts()[:10].plot.bar()"
   ]
  },
  {
   "cell_type": "markdown",
   "id": "59527b49",
   "metadata": {},
   "source": [
    "Comment: Looks like miss Cellanie is a really big fan of owala. Let's check on all her titles see if she is a marketing person for owala."
   ]
  },
  {
   "cell_type": "code",
   "execution_count": 69,
   "id": "deb26c98",
   "metadata": {},
   "outputs": [
    {
     "data": {
      "text/plain": [
       "0      Welcome! please drop an intro and which owala(...\n",
       "218                      Loving my desert sunrise bottle\n",
       "226                         We reached 1,000 members!!!!\n",
       "273                                     DIY kids freesip\n",
       "278    New colors at Sam's Club (and such a great dea...\n",
       "320    Solar coaster's base is actually a midnight bl...\n",
       "374                        Freesip cap on 14oz kids flip\n",
       "385    photos of proof of ownership required for rese...\n",
       "420                         User: Opening-Ad-4965 banned\n",
       "428                        Please be careful of scammers\n",
       "498    Sneak peek of their 2023 birthday bash (i hope...\n",
       "523                           Wow we've hit 250 members!\n",
       "556     Color Drop! Velvet Moon - Drops 1/24 at 10AM MST\n",
       "558     Color Drop! 80's Sofa 32oz - drops 1/10 10AM MST\n",
       "559    Color Drop! Rad Robot 32oz - drops 12/13 10AM MST\n",
       "565                          Color drop: Extraordi-berry\n",
       "567    Chatty rainforest dropping 11/8 at 11AM EST (l...\n",
       "569      Another Color Drop : Super Subtle dropping 9/28\n",
       "571                Color Drop: Shore thing launching 9/1\n",
       "572              \"One in a Melon\" Color drop live (8/17)\n",
       "574                        New color sightings at Target\n",
       "575     Owala having 25% off sitewide July 25 - August 1\n",
       "579                   Sam's club has them on sale again!\n",
       "581                 Bottle boot that fits the Owala 32oz\n",
       "583         Sunny Side Up (Limited edition) dropping 8/1\n",
       "584    Raining Champ (limited edition color) dropping...\n",
       "585    Fiery Dragonfruit (limited edition) dropping o...\n",
       "586    Denim on denim (limited edition color) droppin...\n",
       "587    Serene Tangerine from color drop already sold ...\n",
       "588                                   The boot has come!\n",
       "589     What are your thoughts on the star wars bottles?\n",
       "590            star wars bottles announced on May 4th xD\n",
       "591                              Gotta show off my Owala\n",
       "592    New Color! Cherry on Top. Love it? Hate it? Co...\n",
       "593    Anyone know of a rubber boot that will fit my ...\n",
       "594               a feature you'd want for owala bottles\n",
       "595                                     new color: grayt\n",
       "597    Owner of 2 Hydroflasks, and why my Owala Frees...\n",
       "598    Colors spotted at Whole Foods; Bone, Forest, a...\n",
       "599                   Different colors spotted at Target\n",
       "600                                  New Color: Forresty\n",
       "601                    10,000 Free bottles on March 16th\n",
       "602    Summer 2021 colors: Retro Boardwalk, Tide Me O...\n",
       "603                                       r/Owala Lounge\n",
       "Name: title, dtype: object"
      ]
     },
     "execution_count": 69,
     "metadata": {},
     "output_type": "execute_result"
    }
   ],
   "source": [
    "owala_df['title'][owala_df['author'] == 'misscellanie']"
   ]
  },
  {
   "cell_type": "markdown",
   "id": "6d211018",
   "metadata": {},
   "source": [
    "Comment: We can almost certain she is one of the marketing person. Ok now I kinda want one of those special color ways. All their colorways are so nice, now I really wonder how ugly is the ugliest colorway for owala.\n"
   ]
  },
  {
   "cell_type": "code",
   "execution_count": 74,
   "id": "9d56fccb",
   "metadata": {},
   "outputs": [
    {
     "data": {
      "text/plain": [
       "149    /r/Owala/comments/15ga5dg/found_out_my_owala_i...\n",
       "Name: link, dtype: object"
      ]
     },
     "execution_count": 74,
     "metadata": {},
     "output_type": "execute_result"
    }
   ],
   "source": [
    "# I pull up the link because I really wanted to see\n",
    "owala_df['link'][owala_df['title'].str.contains('ugliest')]"
   ]
  },
  {
   "cell_type": "markdown",
   "id": "c846a998",
   "metadata": {},
   "source": [
    "Comment: Looks like they did not put in a photo for it. But the author did mention the colorway to be 'freesip forresty'. I looked it up and I have to agree with him. It is not the worst but it does look somewhat ugly."
   ]
  },
  {
   "cell_type": "markdown",
   "id": "29200438",
   "metadata": {},
   "source": [
    "## More Analysis Using nltk"
   ]
  },
  {
   "cell_type": "code",
   "execution_count": 76,
   "id": "c9266e75",
   "metadata": {},
   "outputs": [],
   "source": [
    "#pip install nltk"
   ]
  },
  {
   "cell_type": "code",
   "execution_count": 84,
   "id": "0a42774a",
   "metadata": {},
   "outputs": [
    {
     "name": "stderr",
     "output_type": "stream",
     "text": [
      "[nltk_data] Downloading package stopwords to\n",
      "[nltk_data]     /Users/johnxie301/nltk_data...\n",
      "[nltk_data]   Unzipping corpora/stopwords.zip.\n"
     ]
    },
    {
     "data": {
      "text/plain": [
       "True"
      ]
     },
     "execution_count": 84,
     "metadata": {},
     "output_type": "execute_result"
    }
   ],
   "source": [
    "import nltk\n",
    "nltk.download('stopwords')"
   ]
  },
  {
   "cell_type": "code",
   "execution_count": 86,
   "id": "23d3bb70",
   "metadata": {},
   "outputs": [],
   "source": [
    "#input in the list of stopwords into stops\n",
    "from nltk.corpus import stopwords\n",
    "stops = stopwords.words('english')"
   ]
  },
  {
   "cell_type": "code",
   "execution_count": 100,
   "id": "f054f19e",
   "metadata": {},
   "outputs": [
    {
     "data": {
      "text/plain": [
       "[('owala', 81),\n",
       " ('iso', 56),\n",
       " ('color', 51),\n",
       " ('bottle', 49),\n",
       " ('anyone', 43),\n",
       " ('new', 39),\n",
       " ('boot', 33),\n",
       " ('literally', 28),\n",
       " ('oz', 27),\n",
       " ('good', 24),\n",
       " ('40oz', 23),\n",
       " ('drop', 21),\n",
       " ('freesip', 20),\n",
       " ('32oz', 20),\n",
       " ('lid', 18),\n",
       " ('glows', 18),\n",
       " ('tumbler', 17),\n",
       " ('first', 17),\n",
       " ('looking', 17),\n",
       " ('bottles', 16)]"
      ]
     },
     "execution_count": 100,
     "metadata": {},
     "output_type": "execute_result"
    }
   ],
   "source": [
    "#input in all the words from title column that are separated by a blank space and lowerspace them so words are more inclusive.\n",
    "words = ' '.join(owala_df['title']).lower().split()\n",
    "# select all the words in 'words' that are not in the set 'stops'\n",
    "cleaned_words = [i for i in words if i not in set(stops)]\n",
    "#return the most common 20 words from the frequency dist.\n",
    "cleaned_fd = nltk.FreqDist(cleaned_words)\n",
    "cleaned_fd.most_common(20)"
   ]
  },
  {
   "cell_type": "code",
   "execution_count": 109,
   "id": "ddb3f7ad",
   "metadata": {},
   "outputs": [
    {
     "data": {
      "text/plain": [
       "{'birthday': 15,\n",
       " 'know': 14,\n",
       " 'get': 14,\n",
       " 'egg': 14,\n",
       " 'water': 13,\n",
       " '40': 13,\n",
       " 'free': 12,\n",
       " 'piece': 12,\n",
       " '32': 11,\n",
       " 'mine': 11,\n",
       " '-': 11,\n",
       " 'love': 10,\n",
       " 'missed': 10,\n",
       " 'buy': 10,\n",
       " 'day': 10,\n",
       " 'whole': 10,\n",
       " 'bash': 10,\n",
       " 'help': 9,\n",
       " 'colors': 9,\n",
       " 'selling': 9}"
      ]
     },
     "execution_count": 109,
     "metadata": {},
     "output_type": "execute_result"
    }
   ],
   "source": [
    "# nothing surprises me on the most common words. Instead, I want to keep looking at other common words\n",
    "dict(cleaned_fd.most_common()[20:40])"
   ]
  },
  {
   "cell_type": "code",
   "execution_count": 111,
   "id": "379ed3f6",
   "metadata": {},
   "outputs": [
    {
     "data": {
      "text/html": [
       "<div>\n",
       "<style scoped>\n",
       "    .dataframe tbody tr th:only-of-type {\n",
       "        vertical-align: middle;\n",
       "    }\n",
       "\n",
       "    .dataframe tbody tr th {\n",
       "        vertical-align: top;\n",
       "    }\n",
       "\n",
       "    .dataframe thead th {\n",
       "        text-align: right;\n",
       "    }\n",
       "</style>\n",
       "<table border=\"1\" class=\"dataframe\">\n",
       "  <thead>\n",
       "    <tr style=\"text-align: right;\">\n",
       "      <th></th>\n",
       "      <th>title</th>\n",
       "      <th>author</th>\n",
       "      <th>n_comments</th>\n",
       "      <th>score</th>\n",
       "    </tr>\n",
       "  </thead>\n",
       "  <tbody>\n",
       "    <tr>\n",
       "      <th>35</th>\n",
       "      <td>golden birthday, anyone selling it?</td>\n",
       "      <td>EmotionalAd4736</td>\n",
       "      <td>2</td>\n",
       "      <td>2</td>\n",
       "    </tr>\n",
       "    <tr>\n",
       "      <th>388</th>\n",
       "      <td>Hi! I have purchased good egg, I’m not looking...</td>\n",
       "      <td>Th3saltiestssalt</td>\n",
       "      <td>0</td>\n",
       "      <td>3</td>\n",
       "    </tr>\n",
       "    <tr>\n",
       "      <th>412</th>\n",
       "      <td>anyone selling any of the birthday bottles?</td>\n",
       "      <td>sunsetstar7</td>\n",
       "      <td>2</td>\n",
       "      <td>1</td>\n",
       "    </tr>\n",
       "    <tr>\n",
       "      <th>441</th>\n",
       "      <td>What sizes are the birthday drop colors?</td>\n",
       "      <td>Batman4President</td>\n",
       "      <td>2</td>\n",
       "      <td>1</td>\n",
       "    </tr>\n",
       "    <tr>\n",
       "      <th>478</th>\n",
       "      <td>How hard is it to buy color drop / birthday ba...</td>\n",
       "      <td>-LOONA-</td>\n",
       "      <td>9</td>\n",
       "      <td>3</td>\n",
       "    </tr>\n",
       "    <tr>\n",
       "      <th>490</th>\n",
       "      <td>What do you guys think about birthday bash raf...</td>\n",
       "      <td>lightyearbeyond</td>\n",
       "      <td>13</td>\n",
       "      <td>7</td>\n",
       "    </tr>\n",
       "    <tr>\n",
       "      <th>498</th>\n",
       "      <td>Sneak peek of their 2023 birthday bash (i hope...</td>\n",
       "      <td>misscellanie</td>\n",
       "      <td>6</td>\n",
       "      <td>9</td>\n",
       "    </tr>\n",
       "  </tbody>\n",
       "</table>\n",
       "</div>"
      ],
      "text/plain": [
       "                                                 title            author  \\\n",
       "35                 golden birthday, anyone selling it?   EmotionalAd4736   \n",
       "388  Hi! I have purchased good egg, I’m not looking...  Th3saltiestssalt   \n",
       "412        anyone selling any of the birthday bottles?       sunsetstar7   \n",
       "441           What sizes are the birthday drop colors?  Batman4President   \n",
       "478  How hard is it to buy color drop / birthday ba...           -LOONA-   \n",
       "490  What do you guys think about birthday bash raf...   lightyearbeyond   \n",
       "498  Sneak peek of their 2023 birthday bash (i hope...      misscellanie   \n",
       "\n",
       "     n_comments  score  \n",
       "35            2      2  \n",
       "388           0      3  \n",
       "412           2      1  \n",
       "441           2      1  \n",
       "478           9      3  \n",
       "490          13      7  \n",
       "498           6      9  "
      ]
     },
     "execution_count": 111,
     "metadata": {},
     "output_type": "execute_result"
    }
   ],
   "source": [
    "# birthday pops up 15 times, I want to know if it is all birthday raffle and if these are the highest comments\n",
    "owala_df[['title','author','n_comments','score']][owala_df['title'].str.contains('birthday')]"
   ]
  },
  {
   "cell_type": "markdown",
   "id": "298614ab",
   "metadata": {},
   "source": [
    "Comments: Looks like they got a series of colorways called 'birthday bash', and they do look really nice. "
   ]
  },
  {
   "cell_type": "markdown",
   "id": "864e56fa",
   "metadata": {},
   "source": [
    "## Creating 100 Posts and All comments"
   ]
  },
  {
   "cell_type": "code",
   "execution_count": 113,
   "id": "e9dcc216",
   "metadata": {},
   "outputs": [],
   "source": [
    "# I believe adding the comments will be more interesting. It will help with marketing too by knowing what people talks about the most. Right now my assumptions are new color ways and size?\n",
    "reddit_posts_data = {'title': [],\n",
    "                    'link': [],\n",
    "                    'author': [],\n",
    "                    'n_comments': [],\n",
    "                    'score': [],\n",
    "                    'text': [],\n",
    "                    'id': []}\n",
    "\n",
    "reddit_comments_data = {'author': [],\n",
    "                        'score': [],\n",
    "                        'text': [],\n",
    "                        'post_id': []}\n",
    "\n",
    "\n",
    "co_subreddit = reddit.subreddit('owala').new(limit=100)\n",
    "\n",
    "for post in list(co_subreddit):\n",
    "    reddit_posts_data['title'].append(post.title)\n",
    "    reddit_posts_data['link'].append(post.permalink)\n",
    "    if post.author is None:\n",
    "        reddit_posts_data['author'].append(None)\n",
    "    else:\n",
    "        reddit_posts_data['author'].append(post.author.name)\n",
    "    reddit_posts_data['n_comments'].append(post.num_comments)\n",
    "    reddit_posts_data['score'].append(post.score)\n",
    "    reddit_posts_data['text'].append(post.selftext)\n",
    "    reddit_posts_data['id'].append(post.id)\n",
    "\n",
    "    post.comments.replace_more(limit=None)\n",
    "    for comment in post.comments:\n",
    "        if comment.author is None:\n",
    "            reddit_comments_data['author'].append('')\n",
    "        else:\n",
    "            reddit_comments_data['author'].append(comment.author.name)\n",
    "        reddit_comments_data['score'].append(comment.score)\n",
    "        reddit_comments_data['text'].append(comment.body)\n",
    "        reddit_comments_data['post_id'].append(post.id)\n",
    "\n",
    "post_df = pd.DataFrame(reddit_posts_data)\n",
    "comment_df = pd.DataFrame(reddit_comments_data)\n",
    "\n",
    "conn = sqlite3.connect(f'{url}.owala.db')\n",
    "post_df.to_sql('new_posts', conn, if_exists='replace')\n",
    "comment_df.to_sql('comments', conn, if_exists='replace')\n",
    "conn.close() "
   ]
  },
  {
   "cell_type": "code",
   "execution_count": 114,
   "id": "ef8345d1",
   "metadata": {},
   "outputs": [
    {
     "data": {
      "text/html": [
       "<div>\n",
       "<style scoped>\n",
       "    .dataframe tbody tr th:only-of-type {\n",
       "        vertical-align: middle;\n",
       "    }\n",
       "\n",
       "    .dataframe tbody tr th {\n",
       "        vertical-align: top;\n",
       "    }\n",
       "\n",
       "    .dataframe thead th {\n",
       "        text-align: right;\n",
       "    }\n",
       "</style>\n",
       "<table border=\"1\" class=\"dataframe\">\n",
       "  <thead>\n",
       "    <tr style=\"text-align: right;\">\n",
       "      <th></th>\n",
       "      <th>author</th>\n",
       "      <th>score</th>\n",
       "      <th>text</th>\n",
       "      <th>post_id</th>\n",
       "    </tr>\n",
       "  </thead>\n",
       "  <tbody>\n",
       "    <tr>\n",
       "      <th>0</th>\n",
       "      <td>silver_thunderstorm</td>\n",
       "      <td>2</td>\n",
       "      <td>The official one in any color you like. You ca...</td>\n",
       "      <td>17346hm</td>\n",
       "    </tr>\n",
       "    <tr>\n",
       "      <th>1</th>\n",
       "      <td>citrus_baby</td>\n",
       "      <td>1</td>\n",
       "      <td>a sock</td>\n",
       "      <td>17346hm</td>\n",
       "    </tr>\n",
       "    <tr>\n",
       "      <th>2</th>\n",
       "      <td>drjoshm</td>\n",
       "      <td>1</td>\n",
       "      <td>I just got these ones, and they fit the 24oz n...</td>\n",
       "      <td>17346hm</td>\n",
       "    </tr>\n",
       "    <tr>\n",
       "      <th>3</th>\n",
       "      <td>OrdinaryQuestions</td>\n",
       "      <td>7</td>\n",
       "      <td>I've seem multiple posts lately about these bo...</td>\n",
       "      <td>172pa7n</td>\n",
       "    </tr>\n",
       "    <tr>\n",
       "      <th>4</th>\n",
       "      <td>AlternativeVisit8038</td>\n",
       "      <td>3</td>\n",
       "      <td>It’s real easy to fix.</td>\n",
       "      <td>172pa7n</td>\n",
       "    </tr>\n",
       "  </tbody>\n",
       "</table>\n",
       "</div>"
      ],
      "text/plain": [
       "                 author  score  \\\n",
       "0   silver_thunderstorm      2   \n",
       "1           citrus_baby      1   \n",
       "2               drjoshm      1   \n",
       "3     OrdinaryQuestions      7   \n",
       "4  AlternativeVisit8038      3   \n",
       "\n",
       "                                                text  post_id  \n",
       "0  The official one in any color you like. You ca...  17346hm  \n",
       "1                                             a sock  17346hm  \n",
       "2  I just got these ones, and they fit the 24oz n...  17346hm  \n",
       "3  I've seem multiple posts lately about these bo...  172pa7n  \n",
       "4                             It’s real easy to fix.  172pa7n  "
      ]
     },
     "execution_count": 114,
     "metadata": {},
     "output_type": "execute_result"
    }
   ],
   "source": [
    "comment_df.head(5)"
   ]
  },
  {
   "cell_type": "code",
   "execution_count": 120,
   "id": "d914a353",
   "metadata": {},
   "outputs": [
    {
     "data": {
      "text/html": [
       "<div>\n",
       "<style scoped>\n",
       "    .dataframe tbody tr th:only-of-type {\n",
       "        vertical-align: middle;\n",
       "    }\n",
       "\n",
       "    .dataframe tbody tr th {\n",
       "        vertical-align: top;\n",
       "    }\n",
       "\n",
       "    .dataframe thead th {\n",
       "        text-align: right;\n",
       "    }\n",
       "</style>\n",
       "<table border=\"1\" class=\"dataframe\">\n",
       "  <thead>\n",
       "    <tr style=\"text-align: right;\">\n",
       "      <th></th>\n",
       "      <th>title</th>\n",
       "      <th>text</th>\n",
       "    </tr>\n",
       "  </thead>\n",
       "  <tbody>\n",
       "    <tr>\n",
       "      <th>0</th>\n",
       "      <td>Owala Boot</td>\n",
       "      <td>Trying to find an owala boot. Any owala boot y...</td>\n",
       "    </tr>\n",
       "  </tbody>\n",
       "</table>\n",
       "</div>"
      ],
      "text/plain": [
       "        title                                               text\n",
       "0  Owala Boot  Trying to find an owala boot. Any owala boot y..."
      ]
     },
     "execution_count": 120,
     "metadata": {},
     "output_type": "execute_result"
    }
   ],
   "source": [
    "post_df[['title','text']][post_df['id'] == '17346hm']"
   ]
  },
  {
   "cell_type": "code",
   "execution_count": null,
   "id": "f588a67c",
   "metadata": {},
   "outputs": [],
   "source": []
  },
  {
   "cell_type": "markdown",
   "id": "ec5fce48",
   "metadata": {},
   "source": [
    "# Analysis"
   ]
  },
  {
   "cell_type": "markdown",
   "id": "ed918e12",
   "metadata": {},
   "source": [
    "### Personal Thoughts\n",
    "#### This week was really fun. I was able to review and learn to pull data from online resources and store it into dataframes and sql databases. I was working with an logistic person from my previous company and she ask about if I can create a auto refresh excel or table on power BI where she can see all the current locations and ETAs by giving a list of tracking numbers and the shipping companies she used. I think the idea is about the same. I first create accounts and get the api keys from UPS and FedEx, connect it and then pull the data out into dataframes and store it as excel files or csv files. "
   ]
  },
  {
   "cell_type": "markdown",
   "id": "05092a52",
   "metadata": {},
   "source": [
    "### Summary of the assignment\n",
    "#### This week I chose to pull topics about a water bottle brand called 'Owala' bacause that's my girlfriend's favorite water bottle brand. I was able to extract 600+ posts from reddit. In my analysis using SQL command, I found the most commented post was a birthday raffle. But the post with highest score was ugliest color way in the world. That is acutally a really eye-catching topic. In my analysis using pandas, I found that the most posted author is likely to be their marketing person because most of her posts was introducing new colorways to people. They have really interesting names for their colorways so I was actually interested in the topic and went online to look up for pictures of their colorways. I used nltk apis to try to find the words with most frequencies. I found out birthday was one of the high frequency words. Turns out it was one of their series of colorways. Overall, it was a fun experience on this assignment."
   ]
  },
  {
   "cell_type": "markdown",
   "id": "a2fd7420",
   "metadata": {},
   "source": []
  }
 ],
 "metadata": {
  "kernelspec": {
   "display_name": "Python 3",
   "language": "python",
   "name": "python3"
  },
  "language_info": {
   "codemirror_mode": {
    "name": "ipython",
    "version": 3
   },
   "file_extension": ".py",
   "mimetype": "text/x-python",
   "name": "python",
   "nbconvert_exporter": "python",
   "pygments_lexer": "ipython3",
   "version": "3.11.4"
  }
 },
 "nbformat": 4,
 "nbformat_minor": 5
}
